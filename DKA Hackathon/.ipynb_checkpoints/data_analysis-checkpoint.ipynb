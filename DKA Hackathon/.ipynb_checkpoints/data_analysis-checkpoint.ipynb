{
 "cells": [
  {
   "cell_type": "code",
   "execution_count": 1,
   "id": "c3ac3868",
   "metadata": {},
   "outputs": [
    {
     "name": "stdout",
     "output_type": "stream",
     "text": [
      "        Date      Country  Confirmed  Recovered  Deaths  Total Cases\n",
      "0 2020-01-22  Afghanistan          0          0       0            0\n",
      "1 2020-01-23  Afghanistan          0          0       0            0\n",
      "2 2020-01-24  Afghanistan          0          0       0            0\n",
      "3 2020-01-25  Afghanistan          0          0       0            0\n",
      "4 2020-01-26  Afghanistan          0          0       0            0\n",
      "<class 'pandas.core.frame.DataFrame'>\n",
      "RangeIndex: 110175 entries, 0 to 110174\n",
      "Data columns (total 6 columns):\n",
      " #   Column       Non-Null Count   Dtype         \n",
      "---  ------       --------------   -----         \n",
      " 0   Date         110175 non-null  datetime64[ns]\n",
      " 1   Country      110175 non-null  object        \n",
      " 2   Confirmed    110175 non-null  int64         \n",
      " 3   Recovered    110175 non-null  int64         \n",
      " 4   Deaths       110175 non-null  int64         \n",
      " 5   Total Cases  110175 non-null  int64         \n",
      "dtypes: datetime64[ns](1), int64(4), object(1)\n",
      "memory usage: 5.0+ MB\n",
      "None\n"
     ]
    }
   ],
   "source": [
    "#inline flag will use the appropriate backend to make\n",
    "#figures appear inline in the notebook\n",
    "import pandas as pd\n",
    "import numpy as np\n",
    "\n",
    "# 'plt' is an alias for the 'matplotlib.pyplot' module\n",
    "import matplotlib.pyplot as plt\n",
    "\n",
    "#import seaborn library (wrapper of matplotlib)\n",
    "import seaborn as sns\n",
    "\n",
    "df = pd.read_csv('https://raw.githubusercontent.com/datasets/covid-19/main/data/countries-aggregated.csv', parse_dates = ['Date'])\n",
    "df['Total Cases'] = df[['Confirmed', 'Recovered', 'Deaths']].sum(axis = 1)\n",
    "print(df.head())\n",
    "print(df.info())\n"
   ]
  },
  {
   "cell_type": "code",
   "execution_count": 2,
   "id": "68cb1b49",
   "metadata": {},
   "outputs": [],
   "source": [
    "date = df.loc[:, 'Date'].values\n",
    "recovered = df.loc[:, 'Recovered'].values\n",
    "dead = df.loc[:, 'Deaths'].values"
   ]
  },
  {
   "cell_type": "code",
   "execution_count": 3,
   "id": "47230ffd",
   "metadata": {},
   "outputs": [
    {
     "ename": "NameError",
     "evalue": "name 'ptl' is not defined",
     "output_type": "error",
     "traceback": [
      "\u001b[1;31m---------------------------------------------------------------------------\u001b[0m",
      "\u001b[1;31mNameError\u001b[0m                                 Traceback (most recent call last)",
      "\u001b[1;32m<ipython-input-3-7a15b2bb951e>\u001b[0m in \u001b[0;36m<module>\u001b[1;34m\u001b[0m\n\u001b[1;32m----> 1\u001b[1;33m \u001b[0mptl\u001b[0m\u001b[1;33m.\u001b[0m\u001b[0mplot\u001b[0m\u001b[1;33m(\u001b[0m\u001b[0mdate\u001b[0m\u001b[1;33m,\u001b[0m \u001b[0mrecovered\u001b[0m\u001b[1;33m)\u001b[0m\u001b[1;33m\u001b[0m\u001b[1;33m\u001b[0m\u001b[0m\n\u001b[0m",
      "\u001b[1;31mNameError\u001b[0m: name 'ptl' is not defined"
     ]
    }
   ],
   "source": [
    "ptl.plot(date, recovered)"
   ]
  },
  {
   "cell_type": "code",
   "execution_count": null,
   "id": "d15cea70",
   "metadata": {},
   "outputs": [],
   "source": []
  }
 ],
 "metadata": {
  "kernelspec": {
   "display_name": "Python 3",
   "language": "python",
   "name": "python3"
  },
  "language_info": {
   "codemirror_mode": {
    "name": "ipython",
    "version": 3
   },
   "file_extension": ".py",
   "mimetype": "text/x-python",
   "name": "python",
   "nbconvert_exporter": "python",
   "pygments_lexer": "ipython3",
   "version": "3.8.8"
  }
 },
 "nbformat": 4,
 "nbformat_minor": 5
}
